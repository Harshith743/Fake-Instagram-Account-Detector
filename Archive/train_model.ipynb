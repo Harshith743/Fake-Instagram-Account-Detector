{
 "cells": [
  {
   "cell_type": "markdown",
   "id": "b15d36a2",
   "metadata": {},
   "source": [
    "# Instagram Fake Account Detection"
   ]
  },
  {
   "cell_type": "code",
   "execution_count": null,
   "id": "054e5ba8",
   "metadata": {},
   "outputs": [],
   "source": [
    "import sys\n",
    "print(sys.executable)"
   ]
  },
  {
   "cell_type": "code",
   "execution_count": null,
   "id": "73135725",
   "metadata": {},
   "outputs": [],
   "source": [
    "# Step 1: Load the new dataset\n",
    "import pandas as pd\n",
    "from sklearn.model_selection import train_test_split\n",
    "from sklearn.ensemble import RandomForestClassifier\n",
    "from sklearn.metrics import classification_report, accuracy_score\n",
    "import joblib\n",
    "\n",
    "df = pd.read_csv(\"sample_data.csv\")"
   ]
  },
  {
   "cell_type": "code",
   "execution_count": null,
   "id": "36a78279",
   "metadata": {},
   "outputs": [],
   "source": [
    "# Step 2: Preprocess data (remove 'username', define features and target)\n",
    "X = df.drop(columns=[\"username\", \"is_fake\"])\n",
    "y = df[\"is_fake\"]"
   ]
  },
  {
   "cell_type": "code",
   "execution_count": null,
   "id": "f1d0a312",
   "metadata": {},
   "outputs": [],
   "source": [
    "# Step 3: Split into training and testing sets\n",
    "X_train, X_test, y_train, y_test = train_test_split(X, y, test_size=0.3, random_state=42)"
   ]
  },
  {
   "cell_type": "code",
   "execution_count": null,
   "id": "f911bf1f",
   "metadata": {},
   "outputs": [],
   "source": [
    "# Step 4: Train a simple model (Random Forest)\n",
    "model = RandomForestClassifier(random_state=42)\n",
    "model.fit(X_train, y_train)"
   ]
  },
  {
   "cell_type": "code",
   "execution_count": null,
   "id": "8331a6b8",
   "metadata": {},
   "outputs": [],
   "source": [
    "# Step 5: Make predictions\n",
    "y_pred = model.predict(X_test)"
   ]
  },
  {
   "cell_type": "code",
   "execution_count": null,
   "id": "66df6822",
   "metadata": {},
   "outputs": [],
   "source": [
    "# Step 6: Evaluate performance\n",
    "print(\"Classification Report:\")\n",
    "print(classification_report(y_test, y_pred))\n",
    "print(f\"Accuracy: {accuracy_score(y_test, y_pred):.2f}\")"
   ]
  },
  {
   "cell_type": "code",
   "execution_count": null,
   "id": "bbfcde57",
   "metadata": {},
   "outputs": [],
   "source": [
    "# Step 7: Save the model\n",
    "joblib.dump(model, \"fake_instagram_account_model.pkl\")"
   ]
  },
  {
   "cell_type": "code",
   "execution_count": null,
   "id": "ed7b17ca",
   "metadata": {},
   "outputs": [],
   "source": [
    "# Optional: Predict a single custom input\n",
    "# sample_input = pd.DataFrame([{ \n",
    "#     \"num_followers\": 100, \"num_following\": 5000, \"num_posts\": 2, \n",
    "#     \"has_profile_picture\": 0, \"bio_length\": 0, \"is_verified\": 0\n",
    "# }])\n",
    "# print(\"Predicted (1=fake, 0=real):\", model.predict(sample_input)[0])"
   ]
  }
 ],
 "metadata": {
  "kernelspec": {
   "display_name": "Python 3",
   "language": "python",
   "name": "python3"
  },
  "language_info": {
   "codemirror_mode": {
    "name": "ipython",
    "version": 3
   },
   "file_extension": ".py",
   "mimetype": "text/x-python",
   "name": "python",
   "nbconvert_exporter": "python",
   "pygments_lexer": "ipython3",
   "version": "3.8.10"
  }
 },
 "nbformat": 4,
 "nbformat_minor": 5
}
