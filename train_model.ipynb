{
 "cells": [
  {
   "cell_type": "markdown",
   "id": "2566e96a",
   "metadata": {},
   "source": [
    "# Fake Instagram Account Classifier - Model Training"
   ]
  },
  {
   "cell_type": "code",
   "execution_count": 2,
   "id": "700a214c",
   "metadata": {},
   "outputs": [
    {
     "data": {
      "text/plain": [
       "['fake_instagram_account_model.pkl']"
      ]
     },
     "execution_count": 2,
     "metadata": {},
     "output_type": "execute_result"
    }
   ],
   "source": [
    "import pandas as pd\n",
    "from sklearn.ensemble import RandomForestClassifier\n",
    "from sklearn.model_selection import train_test_split\n",
    "import joblib\n",
    "\n",
    "# Load and prepare data\n",
    "df = pd.read_csv(\"train.csv\")\n",
    "X = df.drop(columns=[\"fake\"])\n",
    "y = df[\"fake\"]\n",
    "X_train, X_test, y_train, y_test = train_test_split(X, y, test_size=0.3, random_state=42)\n",
    "\n",
    "# Train model\n",
    "model = RandomForestClassifier(n_estimators=100, random_state=42)\n",
    "model.fit(X_train, y_train)\n",
    "\n",
    "# Save model with feature names\n",
    "model.feature_names_in_ = X.columns.tolist()\n",
    "joblib.dump(model, \"fake_instagram_account_model.pkl\")"
   ]
  }
 ],
 "metadata": {
  "kernelspec": {
   "display_name": ".venv",
   "language": "python",
   "name": "python3"
  },
  "language_info": {
   "codemirror_mode": {
    "name": "ipython",
    "version": 3
   },
   "file_extension": ".py",
   "mimetype": "text/x-python",
   "name": "python",
   "nbconvert_exporter": "python",
   "pygments_lexer": "ipython3",
   "version": "3.8.10"
  }
 },
 "nbformat": 4,
 "nbformat_minor": 5
}
